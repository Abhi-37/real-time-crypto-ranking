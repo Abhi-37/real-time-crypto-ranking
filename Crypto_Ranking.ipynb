import numpy as np
import faiss
import requests
from sentence_transformers import SentenceTransformer
import re
import time
import threading

# Suppressing warnings
import warnings

warnings.filterwarnings('ignore')


# Function to fetch crypto data
def fetch_crypto_data():
    url = "https://api.coincap.io/v2/assets"
    response = requests.get(url)
    data = response.json()
    return data['data']


# Preprocessing function
def preprocess_text(text):
    if text is None:
        return ""
    text = re.sub(r'[^a-zA-Z\s]', '', text)
    text = text.lower()
    text = re.sub(r'\s+', ' ', text).strip()
    return text


# Load the model
model = SentenceTransformer('all-MiniLM-L6-v2')


# Function to generate embeddings
def embed_texts(texts):
    return model.encode(texts, convert_to_numpy=True)


# Create FAISS index
def create_faiss_index(embeddings):
    dimension = embeddings.shape[1]
    index = faiss.IndexFlatL2(dimension)
    index.add(embeddings)
    return index


# Search function
def search(index, query_text, k=5):
    preprocessed_query = preprocess_text(query_text)
    query_vector = model.encode([preprocessed_query])
    distances, indices = index.search(np.array(query_vector).astype('float32'), k)
    return distances, indices


# Periodic update function
def update_index_periodically(interval=600):
    global crypto_data, index, embeddings, documents

    while True:
        # Fetch and preprocess data
        crypto_data = fetch_crypto_data()
        documents = [preprocess_text(crypto.get('description', '')) for crypto in crypto_data]
        embeddings = embed_texts(documents)

        # Update the FAISS index
        index = create_faiss_index(embeddings)
        print("Index updated.")

        # Wait for the next update
        time.sleep(interval)


# Initial fetch and setup
crypto_data = fetch_crypto_data()
documents = [preprocess_text(crypto.get('description', '')) for crypto in crypto_data]
embeddings = embed_texts(documents)
index = create_faiss_index(embeddings)

# Start the background thread
update_thread = threading.Thread(target=update_index_periodically, args=(600,))
update_thread.daemon = True
update_thread.start()

# Example query
query_text = "blockchain"
distances, indices = search(index, query_text)

# Display the results
for i, idx in enumerate(indices[0]):
    print(f"Rank {i + 1}: (Distance: {distances[0][i]})")
    print(f"Name: {crypto_data[idx]['name']}")
    print(f"Symbol: {crypto_data[idx]['symbol']}")
    print("\n" + "-" * 80 + "\n")
